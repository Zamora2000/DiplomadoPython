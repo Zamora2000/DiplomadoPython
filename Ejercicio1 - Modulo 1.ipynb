{
 "cells": [
  {
   "cell_type": "code",
   "execution_count": 2,
   "id": "53eab7a6",
   "metadata": {},
   "outputs": [
    {
     "name": "stdout",
     "output_type": "stream",
     "text": [
      "Ingrese aqui el nombre del cantante: El Yoiner\n",
      "Letra generada:['yo vengo a mami ligal lento hasta que salga el sol sin anestesia '] Lo CANTA El Yoiner\n"
     ]
    }
   ],
   "source": [
    "import random \n",
    "\n",
    "Cantante = input(\"Ingrese aqui el nombre del cantante: \")\n",
    "\n",
    "L1 = [\"yo quiero \", \"yo puedo \", \"yo vengo a \" , \"voy a \" ]\n",
    "L2 = [\"mami \", \"Bebé \", \"princess \" , \"mami \"]\n",
    "L3 = [\"encendelte \", \"amalte \", \"ligal \" , \"jugal \" ]\n",
    "L4 = [\"suave \", \"lento \" , \"lápido\", \"fuelte \" ]\n",
    "L5 = [\"hasta que salga el sol \" , \"toda la noche \",\"hasta el amanecer \", \"todo el día \"]\n",
    "L6 = [ \"sin anestesia \", \"sin compromiso \", \"feis to feis \", \" sin miedo\"]\n",
    "\n",
    "Cancion= [L1[random.randint(0,3)]+ L2[random.randint(0,3)]+L3[random.randint(0,3)]+L4[random.randint(0,3)]+L5[random.randint(0,3)]+L6[random.randint(0,3)]]\n",
    "\n",
    "print( \"Letra generada:\" + str(Cancion) + \" Lo CANTA \" + Cantante )"
   ]
  },
  {
   "cell_type": "markdown",
   "id": "7e97af98",
   "metadata": {},
   "source": [
    "## Álvaro José Zamora Cury\n",
    "#### Identificación: 1003064557\n",
    "#### Celular:3016842661\n",
    "#### Correo: alvaro.zamora@upb.edu.co\n",
    "#### Nit(ID): 502225"
   ]
  }
 ],
 "metadata": {
  "kernelspec": {
   "display_name": "Python 3 (ipykernel)",
   "language": "python",
   "name": "python3"
  },
  "language_info": {
   "codemirror_mode": {
    "name": "ipython",
    "version": 3
   },
   "file_extension": ".py",
   "mimetype": "text/x-python",
   "name": "python",
   "nbconvert_exporter": "python",
   "pygments_lexer": "ipython3",
   "version": "3.9.12"
  }
 },
 "nbformat": 4,
 "nbformat_minor": 5
}
